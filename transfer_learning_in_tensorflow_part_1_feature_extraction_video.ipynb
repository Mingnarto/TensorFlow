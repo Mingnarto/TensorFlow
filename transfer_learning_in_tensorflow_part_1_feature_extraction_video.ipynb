{
  "nbformat": 4,
  "nbformat_minor": 0,
  "metadata": {
    "colab": {
      "name": "transfer-learning-in-tensorflow-part-1-feature-extraction-video.ipynb",
      "provenance": [],
      "collapsed_sections": [],
      "authorship_tag": "ABX9TyP7OQx4Ymu8RdT0uGTzDsbz",
      "include_colab_link": true
    },
    "kernelspec": {
      "name": "python3",
      "display_name": "Python 3"
    },
    "language_info": {
      "name": "python"
    },
    "accelerator": "GPU"
  },
  "cells": [
    {
      "cell_type": "markdown",
      "metadata": {
        "id": "view-in-github",
        "colab_type": "text"
      },
      "source": [
        "<a href=\"https://colab.research.google.com/github/Mingnarto/TensorFlow/blob/main/transfer_learning_in_tensorflow_part_1_feature_extraction_video.ipynb\" target=\"_parent\"><img src=\"https://colab.research.google.com/assets/colab-badge.svg\" alt=\"Open In Colab\"/></a>"
      ]
    },
    {
      "cell_type": "markdown",
      "metadata": {
        "id": "-s9kU85v6REW"
      },
      "source": [
        "# Transfer Learning with TensorFlow Part 1: Feature Extraction\n",
        "\n",
        "Transfer learning is leveraging a working model's existing architecture and learned patterns for our own problem.\n",
        "\n",
        "There are two main benefits:\n",
        "1. Can leverage an existing neural network architecture proven to work on problems similar to our own.\n",
        "2. Can leverage a working neural network architecture which has already learned patterns on similar data to our own, then we can adapt those patterns to our own data."
      ]
    },
    {
      "cell_type": "code",
      "metadata": {
        "colab": {
          "base_uri": "https://localhost:8080/"
        },
        "id": "ZIGKuVlX9KNb",
        "outputId": "2cb4c0e1-efa9-4455-f1a3-78f6ca81618a"
      },
      "source": [
        "# Are we using a GPU?\n",
        "!nvidia-smi"
      ],
      "execution_count": null,
      "outputs": [
        {
          "output_type": "stream",
          "text": [
            "NVIDIA-SMI has failed because it couldn't communicate with the NVIDIA driver. Make sure that the latest NVIDIA driver is installed and running.\n",
            "\n"
          ],
          "name": "stdout"
        }
      ]
    },
    {
      "cell_type": "markdown",
      "metadata": {
        "id": "53gBib4Y9Y98"
      },
      "source": [
        "## Downloading and becoming one with the data"
      ]
    },
    {
      "cell_type": "code",
      "metadata": {
        "colab": {
          "base_uri": "https://localhost:8080/"
        },
        "id": "92f72KIF9loq",
        "outputId": "056f010e-1f41-4a1b-8438-8c8a42aec31d"
      },
      "source": [
        "# Get data (10% of 10 food classes from Food101)\n",
        "import zipfile\n",
        "\n",
        "# Download the data\n",
        "!wget https://storage.googleapis.com/ztm_tf_course/food_vision/10_food_classes_10_percent.zip\n",
        "\n",
        "# Unzip downloaded file\n",
        "zip_ref = zipfile.ZipFile('10_food_classes_10_percent.zip')\n",
        "zip_ref.extractall()\n",
        "zip_ref.close()"
      ],
      "execution_count": null,
      "outputs": [
        {
          "output_type": "stream",
          "text": [
            "--2021-06-30 08:19:00--  https://storage.googleapis.com/ztm_tf_course/food_vision/10_food_classes_10_percent.zip\n",
            "Resolving storage.googleapis.com (storage.googleapis.com)... 172.253.62.128, 172.217.164.144, 172.253.115.128, ...\n",
            "Connecting to storage.googleapis.com (storage.googleapis.com)|172.253.62.128|:443... connected.\n",
            "HTTP request sent, awaiting response... 200 OK\n",
            "Length: 168546183 (161M) [application/zip]\n",
            "Saving to: ‘10_food_classes_10_percent.zip’\n",
            "\n",
            "10_food_classes_10_ 100%[===================>] 160.74M   220MB/s    in 0.7s    \n",
            "\n",
            "2021-06-30 08:19:01 (220 MB/s) - ‘10_food_classes_10_percent.zip’ saved [168546183/168546183]\n",
            "\n"
          ],
          "name": "stdout"
        }
      ]
    },
    {
      "cell_type": "code",
      "metadata": {
        "colab": {
          "base_uri": "https://localhost:8080/"
        },
        "id": "cnwEekkGAY8k",
        "outputId": "6de1510e-cf05-4e7f-a6a4-9176a8705f65"
      },
      "source": [
        "# How many images in each folder?\n",
        "import os\n",
        "\n",
        "# Walk through 10 percent data directory and list number of files\n",
        "for dirpath, dirnames, filenames in os.walk('10_food_classes_10_percent'):\n",
        "  print(f'There are {len(dirnames)} directories and {len(filenames)} images in \"{dirpath}\".')"
      ],
      "execution_count": null,
      "outputs": [
        {
          "output_type": "stream",
          "text": [
            "There are 2 directories and 0 images in \"10_food_classes_10_percent\".\n",
            "There are 10 directories and 0 images in \"10_food_classes_10_percent/test\".\n",
            "There are 0 directories and 250 images in \"10_food_classes_10_percent/test/chicken_curry\".\n",
            "There are 0 directories and 250 images in \"10_food_classes_10_percent/test/hamburger\".\n",
            "There are 0 directories and 250 images in \"10_food_classes_10_percent/test/sushi\".\n",
            "There are 0 directories and 250 images in \"10_food_classes_10_percent/test/steak\".\n",
            "There are 0 directories and 250 images in \"10_food_classes_10_percent/test/ice_cream\".\n",
            "There are 0 directories and 250 images in \"10_food_classes_10_percent/test/ramen\".\n",
            "There are 0 directories and 250 images in \"10_food_classes_10_percent/test/fried_rice\".\n",
            "There are 0 directories and 250 images in \"10_food_classes_10_percent/test/grilled_salmon\".\n",
            "There are 0 directories and 250 images in \"10_food_classes_10_percent/test/chicken_wings\".\n",
            "There are 0 directories and 250 images in \"10_food_classes_10_percent/test/pizza\".\n",
            "There are 10 directories and 0 images in \"10_food_classes_10_percent/train\".\n",
            "There are 0 directories and 75 images in \"10_food_classes_10_percent/train/chicken_curry\".\n",
            "There are 0 directories and 75 images in \"10_food_classes_10_percent/train/hamburger\".\n",
            "There are 0 directories and 75 images in \"10_food_classes_10_percent/train/sushi\".\n",
            "There are 0 directories and 75 images in \"10_food_classes_10_percent/train/steak\".\n",
            "There are 0 directories and 75 images in \"10_food_classes_10_percent/train/ice_cream\".\n",
            "There are 0 directories and 75 images in \"10_food_classes_10_percent/train/ramen\".\n",
            "There are 0 directories and 75 images in \"10_food_classes_10_percent/train/fried_rice\".\n",
            "There are 0 directories and 75 images in \"10_food_classes_10_percent/train/grilled_salmon\".\n",
            "There are 0 directories and 75 images in \"10_food_classes_10_percent/train/chicken_wings\".\n",
            "There are 0 directories and 75 images in \"10_food_classes_10_percent/train/pizza\".\n"
          ],
          "name": "stdout"
        }
      ]
    },
    {
      "cell_type": "markdown",
      "metadata": {
        "id": "l8M_YEEKBBe7"
      },
      "source": [
        "## Creating data loaders (preparing the data)\n",
        "\n",
        "We'll use the `ImageDataGenerator` class to load in our images in batches."
      ]
    },
    {
      "cell_type": "code",
      "metadata": {
        "colab": {
          "base_uri": "https://localhost:8080/"
        },
        "id": "T4z99saPCTzz",
        "outputId": "e1c4f963-6861-427b-c22a-dd2696a4c885"
      },
      "source": [
        "# Setup data inputs\n",
        "from tensorflow.keras.preprocessing.image import ImageDataGenerator\n",
        "\n",
        "IMAGE_SHAPE = (224,224)\n",
        "BATCH_SIZE = 32\n",
        "\n",
        "train_dir = '10_food_classes_10_percent/train/'\n",
        "test_dir = '10_food_classes_10_percent/test/'\n",
        "\n",
        "train_datagen = ImageDataGenerator(rescale=1/225.)\n",
        "test_datagen = ImageDataGenerator(rescale=1/225.)\n",
        "\n",
        "print('Training images:')\n",
        "train_data_10_percent = train_datagen.flow_from_directory(train_dir,\n",
        "                                                          target_size=IMAGE_SHAPE,\n",
        "                                                          batch_size=BATCH_SIZE,\n",
        "                                                          class_mode='categorical')\n",
        "\n",
        "print('Testing images:')\n",
        "test_data = test_datagen.flow_from_directory(test_dir,\n",
        "                                             target_size=IMAGE_SHAPE,\n",
        "                                             batch_size=BATCH_SIZE,\n",
        "                                             class_mode='categorical')"
      ],
      "execution_count": null,
      "outputs": [
        {
          "output_type": "stream",
          "text": [
            "Training images:\n",
            "Found 750 images belonging to 10 classes.\n",
            "Testing images:\n",
            "Found 2500 images belonging to 10 classes.\n"
          ],
          "name": "stdout"
        }
      ]
    },
    {
      "cell_type": "markdown",
      "metadata": {
        "id": "cOW6TPvADYAc"
      },
      "source": [
        "## Setting up callbacks (things to run whilst our model trains)\n",
        "\n",
        "Callbacks are extra functionality you can add to your models to be performed during or after training. Some of the most popular callbacks:\n",
        "\n",
        "- Tracking experiments with TensorBoard callback\n",
        "- Model checkpoint with the ModelCheckpoint callback\n",
        "- Stopping a model from training (before it trains too long and overfits) with the EarlyStopping callback"
      ]
    },
    {
      "cell_type": "code",
      "metadata": {
        "id": "ZWJDyRl6ICCR"
      },
      "source": [
        "# Create TensorBoard callback (functionized because we need to create a new one for each model)\n",
        "import datetime\n",
        "\n",
        "def create_tensorboard_callback(dir_name, experiment_name):\n",
        "  log_dir = dir_name + '/' + experiment_name + '/' + datetime.datetime.now().strftime('%Y%m%d-%H%M%S')\n",
        "  tensorboard_callback = tf.keras.callbacks.TensorBoard(log_dir=log_dir)\n",
        "  print(f'Saving TensorBoard log files to: {log_dir}')\n",
        "  return tensorboard_callback"
      ],
      "execution_count": null,
      "outputs": []
    },
    {
      "cell_type": "markdown",
      "metadata": {
        "id": "p33SvHbxLvNh"
      },
      "source": [
        "## Creating models using TensorFlow Hub\n",
        "\n",
        "In the past we've used TensorFlow to create our own models layer by layer from scratch.\n",
        "\n",
        "Now we're going to do a similar process, except the majority of our model's are going to come from TensorFlow Hub.\n",
        "\n",
        "We can access pretrained models on: https://tfhub.dev/\n",
        "\n",
        "Browsing the TensorFlow Hub page and sorting for image classification, we found the following feature vector model link: https://tfhub.dev/tensorflow/efficientnet/b0/feature-vector/1"
      ]
    },
    {
      "cell_type": "code",
      "metadata": {
        "id": "jwxbF-Xk2V1L"
      },
      "source": [
        "# Let's compare the following two models\n",
        "resnet_url = 'https://tfhub.dev/google/imagenet/resnet_v2_50/feature_vector/5'\n",
        "\n",
        "efficientnet_url = 'https://tfhub.dev/tensorflow/efficientnet/b0/feature-vector/1'"
      ],
      "execution_count": null,
      "outputs": []
    },
    {
      "cell_type": "code",
      "metadata": {
        "id": "rJr1KFts_n-B"
      },
      "source": [
        "# Import dependencies\n",
        "import tensorflow as tf\n",
        "import tensorflow_hub as hub\n",
        "from tensorflow.keras import layers"
      ],
      "execution_count": null,
      "outputs": []
    },
    {
      "cell_type": "code",
      "metadata": {
        "id": "0JjL9l0aATdi"
      },
      "source": [
        "# Let's make a create_model() function to create a model from a URL\n",
        "def create_model(model_url, num_classes=10):\n",
        "  '''\n",
        "  Takes a TensorFlow Hub URL and creates a Keras Sequential model with it.\n",
        "  \n",
        "  Args:\n",
        "    model_url (str): A TensorFlow Hub feature extraction URL.\n",
        "    num_classes (int): Number of output neurons in the output layer,\n",
        "    should be equal to number of target classes, deafault 10.\n",
        "\n",
        "  Returns:\n",
        "    An uncompiled Keras Sequential model_url as feature extractor\n",
        "    layer and Dense output layer with num_classes output neurons.\n",
        "  '''\n",
        "  # Download the pretrained model and save it as a Keras layer\n",
        "  feature_extractor_layer = hub.KerasLayer(model_url,\n",
        "                                           trainable=False,  # Freze the already learned patterns\n",
        "                                           name='feature_extractor_layer',\n",
        "                                           input_shape=IMAGE_SHAPE+(3,))\n",
        "\n",
        "  # Create our own model\n",
        "  model = tf.keras.Sequential([\n",
        "                               feature_extractor_layer,\n",
        "                               layers.Dense(num_classes, activation='softmax', name='output_layer')\n",
        "  ])\n",
        "\n",
        "  return model"
      ],
      "execution_count": null,
      "outputs": []
    },
    {
      "cell_type": "markdown",
      "metadata": {
        "id": "_0XoIFLYCLXD"
      },
      "source": [
        "## Creating and testing ResNet TensorFlow Hub Feature Extraction model"
      ]
    },
    {
      "cell_type": "code",
      "metadata": {
        "id": "5NPBZRlBCIG6"
      },
      "source": [
        "# Create Resnet model\n",
        "resnet_model = create_model(resnet_url,\n",
        "                            num_classes=train_data_10_percent.num_classes)"
      ],
      "execution_count": null,
      "outputs": []
    },
    {
      "cell_type": "code",
      "metadata": {
        "colab": {
          "base_uri": "https://localhost:8080/"
        },
        "id": "oQy20_9bCgIC",
        "outputId": "64dc205f-f329-418f-fd61-a5bd1023ddde"
      },
      "source": [
        "resnet_model.summary()"
      ],
      "execution_count": null,
      "outputs": [
        {
          "output_type": "stream",
          "text": [
            "Model: \"sequential\"\n",
            "_________________________________________________________________\n",
            "Layer (type)                 Output Shape              Param #   \n",
            "=================================================================\n",
            "feature_extractor_layer (Ker (None, 2048)              23564800  \n",
            "_________________________________________________________________\n",
            "output_layer (Dense)         (None, 10)                20490     \n",
            "=================================================================\n",
            "Total params: 23,585,290\n",
            "Trainable params: 20,490\n",
            "Non-trainable params: 23,564,800\n",
            "_________________________________________________________________\n"
          ],
          "name": "stdout"
        }
      ]
    },
    {
      "cell_type": "code",
      "metadata": {
        "id": "gjtqDhHCC3GK"
      },
      "source": [
        "# Compile our resnet model\n",
        "resnet_model.compile(loss='categorical_crossentropy',\n",
        "                     optimizer=tf.keras.optimizers.Adam(),\n",
        "                     metrics=['accuracy'])"
      ],
      "execution_count": null,
      "outputs": []
    },
    {
      "cell_type": "code",
      "metadata": {
        "colab": {
          "base_uri": "https://localhost:8080/"
        },
        "id": "J1A78oCFDH-q",
        "outputId": "9adc63eb-d752-4fc8-c440-8f764d3ca97c"
      },
      "source": [
        "# Let's fit our ResNet model to the data (10 percent of 10 classes)\n",
        "history_resnet = resnet_model.fit(train_data_10_percent,\n",
        "                                  epochs=5,\n",
        "                                  steps_per_epoch=len(train_data_10_percent),\n",
        "                                  validation_data=test_data,\n",
        "                                  validation_steps=len(test_data),\n",
        "                                  callbacks=[create_tensorboard_callback(dir_name='tensorflow_hub',\n",
        "                                                                         experiment_name='resnet50v2')])"
      ],
      "execution_count": null,
      "outputs": [
        {
          "output_type": "stream",
          "text": [
            "Saving TensorBoard log files to: tensorflow_hub/resnet50v2/20210630-055742\n",
            "Epoch 1/5\n",
            "24/24 [==============================] - 51s 761ms/step - loss: 2.0436 - accuracy: 0.3093 - val_loss: 1.3010 - val_accuracy: 0.5872\n",
            "Epoch 2/5\n",
            "24/24 [==============================] - 15s 648ms/step - loss: 0.9100 - accuracy: 0.7373 - val_loss: 0.8854 - val_accuracy: 0.7240\n",
            "Epoch 3/5\n",
            "24/24 [==============================] - 15s 652ms/step - loss: 0.6118 - accuracy: 0.8387 - val_loss: 0.7724 - val_accuracy: 0.7548\n",
            "Epoch 4/5\n",
            "24/24 [==============================] - 15s 650ms/step - loss: 0.4795 - accuracy: 0.8813 - val_loss: 0.7368 - val_accuracy: 0.7612\n",
            "Epoch 5/5\n",
            "24/24 [==============================] - 15s 652ms/step - loss: 0.3832 - accuracy: 0.9120 - val_loss: 0.6965 - val_accuracy: 0.7736\n"
          ],
          "name": "stdout"
        }
      ]
    },
    {
      "cell_type": "code",
      "metadata": {
        "colab": {
          "base_uri": "https://localhost:8080/"
        },
        "id": "7BONIcHpDhxL",
        "outputId": "58889c6a-cfae-4990-d7d4-266accd2f6ed"
      },
      "source": [
        "# Evaluate the model\n",
        "resnet_model.evaluate(test_data)"
      ],
      "execution_count": null,
      "outputs": [
        {
          "output_type": "stream",
          "text": [
            "79/79 [==============================] - 12s 150ms/step - loss: 0.6965 - accuracy: 0.7736\n"
          ],
          "name": "stdout"
        },
        {
          "output_type": "execute_result",
          "data": {
            "text/plain": [
              "[0.6965346932411194, 0.7735999822616577]"
            ]
          },
          "metadata": {
            "tags": []
          },
          "execution_count": 15
        }
      ]
    },
    {
      "cell_type": "markdown",
      "metadata": {
        "id": "ZuG9X99pDsOJ"
      },
      "source": [
        "Wow!\n",
        "\n",
        "That. Is. Incredible. Our transfer learning feature extractor model out performed ALL of the previous models we built by hand... (substantially) and in a quicker training time AND with only 10% of the training examples."
      ]
    },
    {
      "cell_type": "code",
      "metadata": {
        "id": "ZuPzJOYQMDEo"
      },
      "source": [
        "# Let's create a function to plot our loss curves...\n",
        "# Tidbit: You could put a function like this into a script called 'helper.py' and import it when you need it...\n",
        "\n",
        "import matplotlib.pyplot as plt\n",
        "\n",
        "# Plot the validation and training curves\n",
        "def plot_loss_curves(history):\n",
        "  '''\n",
        "  Returns separate loss curves for training and validation metrics.\n",
        "\n",
        "  Args:\n",
        "    history: TensorFlow History object.\n",
        "\n",
        "  Returns:\n",
        "    Plots of training/validation loss and accuracy metrics.\n",
        "\n",
        "  **WARNING: If you use metrics other than 'accuracy' this function might fail**\n",
        "  '''\n",
        "  training_loss = history.history['loss']\n",
        "  val_loss = history.history['val_loss']\n",
        "\n",
        "  training_accuracy = history.history['accuracy']\n",
        "  val_accuracy = history.history['val_accuracy']\n",
        "\n",
        "  epochs = range(len(history.history['loss']))  # how many epochs did we run for?\n",
        "\n",
        "  # Plot loss\n",
        "  plt.plot(epochs, training_loss, label='training_loss')\n",
        "  plt.plot(epochs, val_loss, label='val_loss')\n",
        "  plt.title('loss')\n",
        "  plt.xlabel('epochs')\n",
        "  plt.legend()\n",
        "\n",
        "  # plot accuracy\n",
        "  plt.figure()\n",
        "  plt.plot(epochs, training_accuracy, label='training_accuracy')\n",
        "  plt.plot(epochs, val_accuracy, label='val_accuracy')\n",
        "  plt.title('accuracy')\n",
        "  plt.xlabel('epochs')\n",
        "  plt.legend();"
      ],
      "execution_count": null,
      "outputs": []
    },
    {
      "cell_type": "code",
      "metadata": {
        "colab": {
          "base_uri": "https://localhost:8080/",
          "height": 573
        },
        "id": "vj_TVO40N20g",
        "outputId": "1ad8b73c-b12b-4b45-ed23-3a04d91517bb"
      },
      "source": [
        "plot_loss_curves(history_resnet)"
      ],
      "execution_count": null,
      "outputs": [
        {
          "output_type": "display_data",
          "data": {
            "image/png": "[encoded data removed]",
            "text/plain": [
              "<Figure size 432x288 with 1 Axes>"
            ]
          },
          "metadata": {
            "tags": [],
            "needs_background": "light"
          }
        },
        {
          "output_type": "display_data",
          "data": {
            "image/png": "[encoded data removed]",
            "text/plain": [
              "<Figure size 432x288 with 1 Axes>"
            ]
          },
          "metadata": {
            "tags": [],
            "needs_background": "light"
          }
        }
      ]
    },
    {
      "cell_type": "markdown",
      "metadata": {
        "id": "pTRh1B-gOI8F"
      },
      "source": [
        "## Creating and testing EfficientNetB0 TensorFlow Hub Feature Extraction model"
      ]
    },
    {
      "cell_type": "code",
      "metadata": {
        "colab": {
          "base_uri": "https://localhost:8080/"
        },
        "id": "5FV1RxmMRFYt",
        "outputId": "a207d91a-cea0-4327-a8e7-1fb9ff570bfe"
      },
      "source": [
        "# Create EfficientNetB0 feature extractor model - details on EfficientNet: https://ai.googleblog.com/2019/05/efficientnet-improving-accuracy-and.html\n",
        "efficientnet_model = create_model(model_url=efficientnet_url,\n",
        "                                  num_classes=train_data_10_percent.num_classes)\n",
        "\n",
        "# Compile EfficientNet model\n",
        "efficientnet_model.compile(loss='categorical_crossentropy',\n",
        "                           optimizer=tf.keras.optimizers.Adam(),\n",
        "                           metrics=['accuracy'])\n",
        "\n",
        "# Fit EfficientNet model to 10% of training data\n",
        "efficientnet_history = efficientnet_model.fit(train_data_10_percent,\n",
        "                                              epochs=5,\n",
        "                                              steps_per_epoch=len(train_data_10_percent),\n",
        "                                              validation_data=test_data,\n",
        "                                              validation_steps=len(test_data),\n",
        "                                              callbacks = [create_tensorboard_callback(dir_name='tensorflow_hub',\n",
        "                                                                                       experiment_name='efficientnetB0')])"
      ],
      "execution_count": null,
      "outputs": [
        {
          "output_type": "stream",
          "text": [
            "Saving TensorBoard log files to: tensorflow_hub/efficientnetB0/20210630-060740\n",
            "Epoch 1/5\n",
            "24/24 [==============================] - 24s 744ms/step - loss: 1.8459 - accuracy: 0.4467 - val_loss: 1.3140 - val_accuracy: 0.7052\n",
            "Epoch 2/5\n",
            "24/24 [==============================] - 15s 624ms/step - loss: 1.0862 - accuracy: 0.7520 - val_loss: 0.8986 - val_accuracy: 0.8012\n",
            "Epoch 3/5\n",
            "24/24 [==============================] - 14s 619ms/step - loss: 0.7810 - accuracy: 0.8200 - val_loss: 0.7277 - val_accuracy: 0.8332\n",
            "Epoch 4/5\n",
            "24/24 [==============================] - 15s 623ms/step - loss: 0.6271 - accuracy: 0.8653 - val_loss: 0.6424 - val_accuracy: 0.8460\n",
            "Epoch 5/5\n",
            "24/24 [==============================] - 14s 618ms/step - loss: 0.5298 - accuracy: 0.8893 - val_loss: 0.5865 - val_accuracy: 0.8564\n"
          ],
          "name": "stdout"
        }
      ]
    },
    {
      "cell_type": "code",
      "metadata": {
        "colab": {
          "base_uri": "https://localhost:8080/"
        },
        "id": "zpcMyxVUTp38",
        "outputId": "68929014-9467-4993-8857-d7f1261445f8"
      },
      "source": [
        "# Evaluate the model\n",
        "efficientnet_model.evaluate(test_data)"
      ],
      "execution_count": null,
      "outputs": [
        {
          "output_type": "stream",
          "text": [
            "79/79 [==============================] - 11s 143ms/step - loss: 0.5865 - accuracy: 0.8564\n"
          ],
          "name": "stdout"
        },
        {
          "output_type": "execute_result",
          "data": {
            "text/plain": [
              "[0.5865087509155273, 0.8564000129699707]"
            ]
          },
          "metadata": {
            "tags": []
          },
          "execution_count": 24
        }
      ]
    },
    {
      "cell_type": "code",
      "metadata": {
        "colab": {
          "base_uri": "https://localhost:8080/",
          "height": 573
        },
        "id": "z3mSDTXuUxSW",
        "outputId": "29464c7f-67f7-4a0e-9050-d771c00750d8"
      },
      "source": [
        "# Plot loss curves\n",
        "plot_loss_curves(efficientnet_history)"
      ],
      "execution_count": null,
      "outputs": [
        {
          "output_type": "display_data",
          "data": {
            "image/png": "[encoded data removed]",
            "text/plain": [
              "<Figure size 432x288 with 1 Axes>"
            ]
          },
          "metadata": {
            "tags": [],
            "needs_background": "light"
          }
        },
        {
          "output_type": "display_data",
          "data": {
            "image/png": "[encoded data removed]",
            "text/plain": [
              "<Figure size 432x288 with 1 Axes>"
            ]
          },
          "metadata": {
            "tags": [],
            "needs_background": "light"
          }
        }
      ]
    },
    {
      "cell_type": "code",
      "metadata": {
        "colab": {
          "base_uri": "https://localhost:8080/"
        },
        "id": "fvL6NWvyU34X",
        "outputId": "29b5232f-1d8b-428f-ca6b-b7a5f87fac47"
      },
      "source": [
        "efficientnet_model.summary()"
      ],
      "execution_count": null,
      "outputs": [
        {
          "output_type": "stream",
          "text": [
            "Model: \"sequential_2\"\n",
            "_________________________________________________________________\n",
            "Layer (type)                 Output Shape              Param #   \n",
            "=================================================================\n",
            "feature_extractor_layer (Ker (None, 1280)              4049564   \n",
            "_________________________________________________________________\n",
            "output_layer (Dense)         (None, 10)                12810     \n",
            "=================================================================\n",
            "Total params: 4,062,374\n",
            "Trainable params: 12,810\n",
            "Non-trainable params: 4,049,564\n",
            "_________________________________________________________________\n"
          ],
          "name": "stdout"
        }
      ]
    },
    {
      "cell_type": "code",
      "metadata": {
        "colab": {
          "base_uri": "https://localhost:8080/"
        },
        "id": "lswK-x6DhrMU",
        "outputId": "3672594b-1e86-4d73-c725-107c1ddd7d08"
      },
      "source": [
        "resnet_model.summary()"
      ],
      "execution_count": null,
      "outputs": [
        {
          "output_type": "stream",
          "text": [
            "Model: \"sequential\"\n",
            "_________________________________________________________________\n",
            "Layer (type)                 Output Shape              Param #   \n",
            "=================================================================\n",
            "feature_extractor_layer (Ker (None, 2048)              23564800  \n",
            "_________________________________________________________________\n",
            "output_layer (Dense)         (None, 10)                20490     \n",
            "=================================================================\n",
            "Total params: 23,585,290\n",
            "Trainable params: 20,490\n",
            "Non-trainable params: 23,564,800\n",
            "_________________________________________________________________\n"
          ],
          "name": "stdout"
        }
      ]
    },
    {
      "cell_type": "code",
      "metadata": {
        "colab": {
          "base_uri": "https://localhost:8080/"
        },
        "id": "NK2DOvaHm1Wy",
        "outputId": "84d4514d-e103-4817-989f-02cf54d7aa45"
      },
      "source": [
        "# How many layers does our efficientnet feature extractor have?\n",
        "len(efficientnet_model.layers[0].weights)"
      ],
      "execution_count": null,
      "outputs": [
        {
          "output_type": "execute_result",
          "data": {
            "text/plain": [
              "309"
            ]
          },
          "metadata": {
            "tags": []
          },
          "execution_count": 30
        }
      ]
    },
    {
      "cell_type": "markdown",
      "metadata": {
        "id": "VH4H6YLwh1JK"
      },
      "source": [
        "## Different types of transfer learning\n",
        "\n",
        "- **'As is' transfer learning** - using an existing model with no changes what so ever (e.g. using ImageNet on 1000 ImageNet classes, non of your own)\n",
        "- **'Feature extraction' transfer learnin**g - use the prelearned patterns of an existing model (e.g. EfficientNetB0 on ImageNet) and adjust the putput layer for your own problem (e.g. 1000 classes -> 10 classes of food)\n",
        "- **'Fine-tuning' transfer learning** - use the prelearned patterns of an existing model and 'fine-tune' many or all of the underlying layers (including new output layers)"
      ]
    },
    {
      "cell_type": "markdown",
      "metadata": {
        "id": "fKKDpr5kmW7z"
      },
      "source": [
        "## Comparing our models results using TensorBoard\n",
        "\n",
        "> **NOTE:** When you upload things to TensorBoard.dev, your experiments are public. So if you're running private experiments (things you don't want others to see) do not upload them to TensorBoard.dev."
      ]
    },
    {
      "cell_type": "code",
      "metadata": {
        "id": "E6i7oSoEqmOi"
      },
      "source": [
        "# Upload TensorBoard dev records\n",
        "!tensorboard dev upload --logdir ./tensorflow_hub/ \\\n",
        "--name 'EfficientNetB0 vs. ResNet50v2' \\\n",
        "--description 'Comparing two different TF Hub feature extraction model architecture using 10% of the training data' \\\n",
        "--one_shot"
      ],
      "execution_count": null,
      "outputs": []
    },
    {
      "cell_type": "markdown",
      "metadata": {
        "id": "HdcP2V-l7jM9"
      },
      "source": [
        "Our TensorBoard experiments are uploaded publically here: https://tensorboard.dev/experiment/4cjLWokSQsqQxsAxeNg5Bw/"
      ]
    },
    {
      "cell_type": "code",
      "metadata": {
        "colab": {
          "base_uri": "https://localhost:8080/"
        },
        "id": "KryV9pRDtTiQ",
        "outputId": "7d606e70-5a37-431e-8c4b-5dbfe0416607"
      },
      "source": [
        "# Check out what TensorBoard experiments you have\n",
        "!tensorboard dev list"
      ],
      "execution_count": null,
      "outputs": [
        {
          "output_type": "stream",
          "text": [
            "2021-06-30 08:00:06.157035: I tensorflow/stream_executor/platform/default/dso_loader.cc:53] Successfully opened dynamic library libcudart.so.11.0\n",
            "Data for the \"text\" plugin is now uploaded to TensorBoard.dev! Note that uploaded data is public. If you do not want to upload data for this plugin, use the \"--plugins\" command line argument.\n",
            "https://tensorboard.dev/experiment/4cjLWokSQsqQxsAxeNg5Bw/\n",
            "\tName                 EfficientNetB0 vs. ResNet50v2\n",
            "\tDescription          Comparing two different TF Hub feature extraction model architecture using 10% of the training data\n",
            "\tId                   4cjLWokSQsqQxsAxeNg5Bw\n",
            "\tCreated              2021-06-30 07:22:00 (38 minutes ago)\n",
            "\tUpdated              2021-06-30 07:22:03 (38 minutes ago)\n",
            "\tRuns                 6\n",
            "\tTags                 5\n",
            "\tScalars              120\n",
            "\tTensor bytes         0\n",
            "\tBinary object bytes  10144184\n",
            "Total: 1 experiment(s)\n"
          ],
          "name": "stdout"
        }
      ]
    },
    {
      "cell_type": "code",
      "metadata": {
        "colab": {
          "base_uri": "https://localhost:8080/"
        },
        "id": "BQf5mDsWthXz",
        "outputId": "366923e4-46e6-4091-d177-ffbfa666cf44"
      },
      "source": [
        "# Delete an experiment\n",
        "#!tensorboard dev delete --experiment_id 4cjLWokSQsqQxsAxeNg5Bw"
      ],
      "execution_count": null,
      "outputs": [
        {
          "output_type": "stream",
          "text": [
            "2021-06-30 07:21:41.026924: I tensorflow/stream_executor/platform/default/dso_loader.cc:53] Successfully opened dynamic library libcudart.so.11.0\n",
            "Data for the \"text\" plugin is now uploaded to TensorBoard.dev! Note that uploaded data is public. If you do not want to upload data for this plugin, use the \"--plugins\" command line argument.\n",
            "Deleted experiment w9iD6lsBR5mCrE1NG5wDog.\n"
          ],
          "name": "stdout"
        }
      ]
    },
    {
      "cell_type": "code",
      "metadata": {
        "colab": {
          "base_uri": "https://localhost:8080/"
        },
        "id": "A1chnC-gtr1J",
        "outputId": "25eefb6d-fb3a-42a8-87cc-702f9efe3be7"
      },
      "source": [
        "# Confirm the deletion by re-checking what experiments you have left\n",
        "!tensorboard dev list"
      ],
      "execution_count": null,
      "outputs": [
        {
          "output_type": "stream",
          "text": [
            "2021-06-30 07:21:48.901001: I tensorflow/stream_executor/platform/default/dso_loader.cc:53] Successfully opened dynamic library libcudart.so.11.0\n",
            "Data for the \"text\" plugin is now uploaded to TensorBoard.dev! Note that uploaded data is public. If you do not want to upload data for this plugin, use the \"--plugins\" command line argument.\n",
            "No experiments. Use `tensorboard dev upload` to get started.\n"
          ],
          "name": "stdout"
        }
      ]
    },
    {
      "cell_type": "markdown",
      "metadata": {
        "id": "bSi8FEJay5jQ"
      },
      "source": [
        "#######################################################################################################"
      ]
    },
    {
      "cell_type": "code",
      "metadata": {
        "id": "umC3GkxT7yVl"
      },
      "source": [
        "# mobilenet url\n",
        "mobilenet_url = 'https://tfhub.dev/google/imagenet/mobilenet_v2_100_224/feature_vector/4'"
      ],
      "execution_count": null,
      "outputs": []
    },
    {
      "cell_type": "code",
      "metadata": {
        "id": "2h7pA25-8SNU"
      },
      "source": [
        "# Let's make a create_model() function to create a model from URL\n",
        "def create_model(model_url, num_classes=10):\n",
        "  '''\n",
        "  Takes a TensorFlow Hub URL and creates a Keras Sequential model with it.\n",
        "  \n",
        "  Args:\n",
        "    model_url (str): A TensorFlow Hub feature extraction URL.\n",
        "    num_classes (int): Number of output neurons in the output layer,\n",
        "    should be equal to number of target classes, deafault 10.\n",
        "\n",
        "  Returns:\n",
        "    An uncompiled Keras Sequential model_url as feature extractor\n",
        "    layer and Dense output layer with num_classes output neurons.\n",
        "  '''\n",
        "  # Download the pretrained model and and save it as a Keras layer\n",
        "  feature_extractor_layer = hub.KerasLayer(model_url,\n",
        "                                           trainable=False,  # Freze the already learned patterns\n",
        "                                           name='feature_extractor_layer',\n",
        "                                           input_shape=IMAGE_SHAPE + (3,))\n",
        "  # Create our own model\n",
        "  model = tf.keras.Sequential([\n",
        "                               feature_extractor_layer,\n",
        "                               layers.Dense(num_classes, activation='softmax', name='aoutput_layer')\n",
        "  ])\n",
        "\n",
        "  return model"
      ],
      "execution_count": null,
      "outputs": []
    },
    {
      "cell_type": "code",
      "metadata": {
        "id": "ueXdw_4m9Ul-"
      },
      "source": [
        "# Create mobilenet model\n",
        "mobilenet_model = create_model(mobilenet_url,\n",
        "                               num_classes=train_data_10_percent.num_classes)"
      ],
      "execution_count": null,
      "outputs": []
    },
    {
      "cell_type": "code",
      "metadata": {
        "colab": {
          "base_uri": "https://localhost:8080/"
        },
        "id": "k_2dVzLX9nsN",
        "outputId": "f9394520-009b-4366-9a1f-9840dfd7b0d8"
      },
      "source": [
        "# Compile the model\n",
        "mobilenet_model.compile(loss='categorical_crossentropy',\n",
        "                        optimizer=tf.keras.optimizers.Adam(),\n",
        "                        metrics=['accuracy'])\n",
        "\n",
        "# Fit the model\n",
        "mobilenet_history = mobilenet_model.fit(train_data_10_percent,\n",
        "                                        epochs=5,\n",
        "                                        steps_per_epoch=len(train_data_10_percent),\n",
        "                                        validation_data=test_data,\n",
        "                                        validation_steps=len(test_data),\n",
        "                                        callbacks = [create_tensorboard_callback(dir_name='tensorflow_hub',\n",
        "                                                                                 experiment_name='mobilenet')])"
      ],
      "execution_count": null,
      "outputs": [
        {
          "output_type": "stream",
          "text": [
            "Saving TensorBoard log files to: tensorflow_hub/mobilenet/20210630-083145\n",
            "Epoch 1/5\n",
            "24/24 [==============================] - 91s 4s/step - loss: 0.4262 - accuracy: 0.9040 - val_loss: 0.6068 - val_accuracy: 0.8032\n",
            "Epoch 2/5\n",
            "24/24 [==============================] - 103s 4s/step - loss: 0.3145 - accuracy: 0.9347 - val_loss: 0.5654 - val_accuracy: 0.8168\n",
            "Epoch 3/5\n",
            "24/24 [==============================] - 89s 4s/step - loss: 0.2621 - accuracy: 0.9587 - val_loss: 0.5601 - val_accuracy: 0.8168\n",
            "Epoch 4/5\n",
            "24/24 [==============================] - 102s 4s/step - loss: 0.2177 - accuracy: 0.9667 - val_loss: 0.5538 - val_accuracy: 0.8196\n",
            "Epoch 5/5\n",
            "24/24 [==============================] - 88s 4s/step - loss: 0.1778 - accuracy: 0.9787 - val_loss: 0.5497 - val_accuracy: 0.8176\n"
          ],
          "name": "stdout"
        }
      ]
    },
    {
      "cell_type": "code",
      "metadata": {
        "id": "127qHVD3AvCd"
      },
      "source": [
        "# Let's create a function to plot our loss curves...\n",
        "# Tidbit: You could put a function like this into a script called 'helper.py' and import it when you need it...\n",
        "\n",
        "import matplotlib.pyplot as plt\n",
        "\n",
        "# Plot the validation and training curves\n",
        "def plot_loss_curves(history):\n",
        "  '''\n",
        "  Returns separate loss curves for training and validation metrics.\n",
        "\n",
        "  Args:\n",
        "    history: TensorFlow History object.\n",
        "\n",
        "  Returns:\n",
        "    Plots of training/validation loss and accuracy metrics.\n",
        "\n",
        "  **WARNING: If you use metrics other than 'accuracy' this function might fail**\n",
        "  '''\n",
        "  training_loss = history.history['loss']\n",
        "  val_loss = history.history['val_loss']\n",
        "\n",
        "  training_accuracy = history.history['accuracy']\n",
        "  val_accuracy = history.history['val_accuracy']\n",
        "\n",
        "  epochs = range(len(history.history['loss']))  # how many epochs did we run for?\n",
        "\n",
        "  # Plot loss\n",
        "  plt.plot(epochs, training_loss, label='training_loss')\n",
        "  plt.plot(epochs, val_loss, label='val_loss')\n",
        "  plt.title('loss')\n",
        "  plt.xlabel('epochs')\n",
        "  plt.legend()\n",
        "\n",
        "  # plot accuracy\n",
        "  plt.figure()\n",
        "  plt.plot(epochs, training_accuracy, label='training_accuracy')\n",
        "  plt.plot(epochs, val_accuracy, label='val_accuracy')\n",
        "  plt.title('accuracy')\n",
        "  plt.xlabel('epochs')\n",
        "  plt.legend();"
      ],
      "execution_count": null,
      "outputs": []
    },
    {
      "cell_type": "code",
      "metadata": {
        "colab": {
          "base_uri": "https://localhost:8080/",
          "height": 573
        },
        "id": "nckQeLPbCo21",
        "outputId": "279092f1-1e3d-427c-8626-027e3719c1c2"
      },
      "source": [
        "# Plot loss curves\n",
        "plot_loss_curves(mobilenet_history)"
      ],
      "execution_count": null,
      "outputs": [
        {
          "output_type": "display_data",
          "data": {
            "image/png": "[encoded data removed]",
            "text/plain": [
              "<Figure size 432x288 with 1 Axes>"
            ]
          },
          "metadata": {
            "tags": [],
            "needs_background": "light"
          }
        },
        {
          "output_type": "display_data",
          "data": {
            "image/png": "[encoded data removed]",
            "text/plain": [
              "<Figure size 432x288 with 1 Axes>"
            ]
          },
          "metadata": {
            "tags": [],
            "needs_background": "light"
          }
        }
      ]
    },
    {
      "cell_type": "code",
      "metadata": {
        "colab": {
          "base_uri": "https://localhost:8080/"
        },
        "id": "eVfMkLcBC7cN",
        "outputId": "94e810b1-05c8-48cf-dd6b-63925cc1d210"
      },
      "source": [
        "# Evaluate the model\n",
        "mobilenet_model.evaluate(test_data)"
      ],
      "execution_count": null,
      "outputs": [
        {
          "output_type": "stream",
          "text": [
            "79/79 [==============================] - 83s 1s/step - loss: 0.5497 - accuracy: 0.8176\n"
          ],
          "name": "stdout"
        },
        {
          "output_type": "execute_result",
          "data": {
            "text/plain": [
              "[0.5496887564659119, 0.8176000118255615]"
            ]
          },
          "metadata": {
            "tags": []
          },
          "execution_count": 25
        }
      ]
    },
    {
      "cell_type": "markdown",
      "metadata": {
        "id": "nIXkXc3yDIak"
      },
      "source": [
        "#######################################################################################################"
      ]
    }
  ]
}